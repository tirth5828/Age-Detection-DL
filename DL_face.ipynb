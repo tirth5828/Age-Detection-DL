{
  "nbformat": 4,
  "nbformat_minor": 0,
  "metadata": {
    "colab": {
      "provenance": [],
      "authorship_tag": "ABX9TyMOCUEqILkgdg/o9xjMC5x6",
      "include_colab_link": true
    },
    "kernelspec": {
      "name": "python3",
      "display_name": "Python 3"
    },
    "language_info": {
      "name": "python"
    },
    "accelerator": "TPU"
  },
  "cells": [
    {
      "cell_type": "markdown",
      "metadata": {
        "id": "view-in-github",
        "colab_type": "text"
      },
      "source": [
        "<a href=\"https://colab.research.google.com/github/tirth5828/Age-Detection-DL/blob/main/DL_face.ipynb\" target=\"_parent\"><img src=\"https://colab.research.google.com/assets/colab-badge.svg\" alt=\"Open In Colab\"/></a>"
      ]
    },
    {
      "cell_type": "code",
      "execution_count": 1,
      "metadata": {
        "id": "7rxFFPcysYDf"
      },
      "outputs": [],
      "source": [
        "import scipy.io\n",
        "import numpy as np\n",
        "import pandas as pd\n",
        "from datetime import datetime, timedelta\n",
        "\n",
        "import tensorflow as tf\n",
        "\n",
        "import keras\n",
        "from keras.preprocessing import image\n",
        "from keras.callbacks import ModelCheckpoint,EarlyStopping\n",
        "from keras.layers import Dense, Activation, Dropout, Flatten, Input, Convolution2D, ZeroPadding2D, MaxPooling2D, Activation\n",
        "from keras.layers import Conv2D, AveragePooling2D\n",
        "from keras.models import Model, Sequential\n",
        "\n",
        "from sklearn.model_selection import train_test_split\n",
        "\n",
        "from keras import metrics\n",
        "\n",
        "from keras.models import model_from_json\n",
        "import matplotlib.pyplot as plt\n",
        "\n",
        "import os\n",
        "from os.path import join\n",
        "from google.colab import drive\n",
        "\n",
        "import cv2\n",
        "\n",
        "import gc"
      ]
    },
    {
      "cell_type": "code",
      "source": [
        "drive.mount('/content/drive/')"
      ],
      "metadata": {
        "colab": {
          "base_uri": "https://localhost:8080/"
        },
        "id": "mMPEov1vHRla",
        "outputId": "7ecefed8-2321-4539-89c0-4606fb7d538a"
      },
      "execution_count": 2,
      "outputs": [
        {
          "output_type": "stream",
          "name": "stdout",
          "text": [
            "Mounted at /content/drive/\n"
          ]
        }
      ]
    },
    {
      "cell_type": "code",
      "source": [
        "dataset_directory = '/content/drive/My Drive/data'\n",
        "\n",
        "image_size = 100\n",
        "classes = 101\n",
        "\n",
        "# #age groups\n",
        "# age_ranges = {\n",
        "#     (6,20) : 0, \n",
        "#     (35,40) : 1, \n",
        "#     (55,98) : 2\n",
        "# }\n",
        "\n",
        "#age groups\n",
        "age_ranges = {\n",
        "    (0,27) : 0, \n",
        "    (28,47) : 1, \n",
        "    (48,100) : 2\n",
        "}\n",
        "\n",
        "# convert age to age group\n",
        "def convert_ranges(age):\n",
        "  for key in age_ranges:\n",
        "    if key[0] <= age <= key[1]:\n",
        "      return age_ranges[key]\n",
        "\n",
        "# transform labels to age\n",
        "def transform_labels_age(labels_vec):\n",
        "  new_labels_vec = []\n",
        "  for x in labels_vec:\n",
        "    x2 = x.split('-')\n",
        "    new_labels_vec.append(convert_ranges(int(x2[1])))\n",
        "  return np.array(new_labels_vec)\n",
        "\n",
        "# transform labels to index\n",
        "def transform_labels_index(labels_vec):\n",
        "  new_labels_vec = []\n",
        "  for x in labels_vec:\n",
        "    x2 = x.split('-')\n",
        "    new_labels_vec.append(convert_ranges(int(x2[0])))\n",
        "  return np.array(new_labels_vec)"
      ],
      "metadata": {
        "id": "1J6isdARG9dR"
      },
      "execution_count": 3,
      "outputs": []
    },
    {
      "cell_type": "code",
      "source": [
        "# load train dataset\n",
        "# set of data to be used for learning\n",
        "images_train = np.load(join(dataset_directory, 'train_images.npy'))\n",
        "print(images_train.shape)\n",
        "\n",
        "# load train dataset labels\n",
        "labels_train_full = np.load(join(dataset_directory, 'train_labels.npy'))\n",
        "\n",
        "# transform trains dataset labels....................................................................................\n",
        "labels_train = transform_labels_age(labels_train_full)\n",
        "\n",
        "# load valid dataset\n",
        "# set of data to be used to provide an unbiased evaluation of the model fitted on the the training dataset while tuning model hyperparameters\n",
        "images_val = np.load(join(dataset_directory, 'val_images.npy'))\n",
        "\n",
        "# load valid dataset labels\n",
        "labels_val_full = np.load(join(dataset_directory, 'val_labels.npy'))\n",
        "\n",
        "# transmiform valid dataset labels....................................................................................\n",
        "labels_val = transform_labels_age(labels_val_full)\n",
        "\n",
        "# load test dataset(public)\n",
        "# set of data to be used to provide an unbiased evaluation of the final model fitted on the training dataset\n",
        "images_test_public = np.load(join(dataset_directory, 'test_images.npy'))\n",
        "\n",
        "# reshape datasets (normalisation)\n",
        "images_train = images_train.reshape([-1, image_size, image_size, 3]) / 255.0\n",
        "images_val = images_val.reshape([-1, image_size, image_size, 3]) / 255.0\n",
        "images_test_public = images_test_public.reshape([-1, image_size, image_size, 3]) / 255.0\n",
        "\n"
      ],
      "metadata": {
        "id": "uJeMqtiYHODk",
        "colab": {
          "base_uri": "https://localhost:8080/"
        },
        "outputId": "f7feafed-777a-46e0-aba8-8728b59f1979"
      },
      "execution_count": 4,
      "outputs": [
        {
          "output_type": "stream",
          "name": "stdout",
          "text": [
            "(13475, 100, 100, 3)\n"
          ]
        }
      ]
    },
    {
      "cell_type": "code",
      "source": [
        "index_val = transform_labels_index(labels_val_full)"
      ],
      "metadata": {
        "id": "pHtv84BMuasQ"
      },
      "execution_count": null,
      "outputs": []
    },
    {
      "cell_type": "code",
      "source": [
        "print(images_train.shape)\n",
        "print(images_val.shape)\n",
        "print(images_test_public.shape)\n",
        "\n",
        "print(labels_train_full[:9])\n",
        "print(labels_train[:9])\n",
        "\n",
        "print(labels_val_full[:9])\n",
        "print(labels_val[:9])"
      ],
      "metadata": {
        "colab": {
          "base_uri": "https://localhost:8080/"
        },
        "id": "og0k3_sHHYc-",
        "outputId": "b2b0e0a6-d962-46b3-9e7d-81d069773559"
      },
      "execution_count": 5,
      "outputs": [
        {
          "output_type": "stream",
          "name": "stdout",
          "text": [
            "(13475, 100, 100, 3)\n",
            "(2595, 100, 100, 3)\n",
            "(2374, 100, 100, 3)\n",
            "['12466-81' '12466-61' '12466-81' '12466-61' '12566-35' '12566-37'\n",
            " '12566-35' '12566-35' '12566-37']\n",
            "[2 2 2 2 1 1 1 1 1]\n",
            "['12626-16' '12726-37' '12726-37' '12726-37' '12726-37' '12726-37'\n",
            " '12726-37' '12726-39' '12726-37']\n",
            "[0 1 1 1 1 1 1 1 1]\n"
          ]
        }
      ]
    },
    {
      "cell_type": "code",
      "source": [
        "def plot_bar(y, loc='left', relative=True):\n",
        "    width = 0.35\n",
        "    if loc == 'left':\n",
        "        n = -0.5\n",
        "    elif loc == 'right':\n",
        "        n = 0.5\n",
        "     \n",
        "    # calculate counts per type and sort, to ensure their order\n",
        "    unique, counts = np.unique(y, return_counts=True)\n",
        "    sorted_index = np.argsort(unique)\n",
        "    unique = unique[sorted_index]\n",
        "     \n",
        "    if relative:\n",
        "        # plot as a percentage\n",
        "        counts = 100*counts[sorted_index]/len(y)\n",
        "        ylabel_text = '% count'\n",
        "    else:\n",
        "        # plot counts\n",
        "        counts = counts[sorted_index]\n",
        "        ylabel_text = 'count'\n",
        "         \n",
        "    xtemp = np.arange(len(unique))\n",
        "     \n",
        "    plt.bar(xtemp + n*width, counts, align='center', alpha=.7, width=width)\n",
        "    plt.xticks(xtemp, unique, rotation=45)\n",
        "    plt.xlabel('age group')\n",
        "    plt.ylabel(ylabel_text)\n",
        " \n",
        "plt.suptitle('relative amount of image per age group')\n",
        "plot_bar(labels_train, loc='left')\n",
        "plot_bar(labels_val, loc='right')\n",
        "plt.legend([\n",
        "    'images_train ({0})'.format(len(labels_train)), \n",
        "    'images_val ({0})'.format(len(labels_val))\n",
        "]);"
      ],
      "metadata": {
        "colab": {
          "base_uri": "https://localhost:8080/",
          "height": 310
        },
        "id": "1nTLZhW4HWvT",
        "outputId": "ba013398-2b89-4726-dd64-2b900f2b22f8"
      },
      "execution_count": null,
      "outputs": [
        {
          "output_type": "display_data",
          "data": {
            "text/plain": [
              "<Figure size 432x288 with 1 Axes>"
            ],
            "image/png": "[encoded data removed]"
          },
          "metadata": {
            "needs_background": "light"
          }
        }
      ]
    },
    {
      "cell_type": "code",
      "source": [
        "#VGG-Face model\n",
        "model = Sequential()\n",
        "model.add(ZeroPadding2D((1,1),input_shape=(224,224, 3)))\n",
        "model.add(Convolution2D(64, (3, 3), activation='relu'))\n",
        "model.add(ZeroPadding2D((1,1)))\n",
        "model.add(Convolution2D(64, (3, 3), activation='relu'))\n",
        "model.add(MaxPooling2D((2,2), strides=(2,2)))\n",
        "\n",
        "model.add(ZeroPadding2D((1,1)))\n",
        "model.add(Convolution2D(128, (3, 3), activation='relu'))\n",
        "model.add(ZeroPadding2D((1,1)))\n",
        "model.add(Convolution2D(128, (3, 3), activation='relu'))\n",
        "model.add(MaxPooling2D((2,2), strides=(2,2)))\n",
        "\n",
        "model.add(ZeroPadding2D((1,1)))\n",
        "model.add(Convolution2D(256, (3, 3), activation='relu'))\n",
        "model.add(ZeroPadding2D((1,1)))\n",
        "model.add(Convolution2D(256, (3, 3), activation='relu'))\n",
        "model.add(ZeroPadding2D((1,1)))\n",
        "model.add(Convolution2D(256, (3, 3), activation='relu'))\n",
        "model.add(MaxPooling2D((2,2), strides=(2,2)))\n",
        "\n",
        "model.add(ZeroPadding2D((1,1)))\n",
        "model.add(Convolution2D(512, (3, 3), activation='relu'))\n",
        "model.add(ZeroPadding2D((1,1)))\n",
        "model.add(Convolution2D(512, (3, 3), activation='relu'))\n",
        "model.add(ZeroPadding2D((1,1)))\n",
        "model.add(Convolution2D(512, (3, 3), activation='relu'))\n",
        "model.add(MaxPooling2D((2,2), strides=(2,2)))\n",
        "\n",
        "model.add(ZeroPadding2D((1,1)))\n",
        "model.add(Convolution2D(512, (3, 3), activation='relu'))\n",
        "model.add(ZeroPadding2D((1,1)))\n",
        "model.add(Convolution2D(512, (3, 3), activation='relu'))\n",
        "model.add(ZeroPadding2D((1,1)))\n",
        "model.add(Convolution2D(512, (3, 3), activation='relu'))\n",
        "model.add(MaxPooling2D((2,2), strides=(2,2)))\n",
        "\n",
        "model.add(Convolution2D(4096, (7, 7), activation='relu'))\n",
        "model.add(Dropout(0.5))\n",
        "model.add(Convolution2D(4096, (1, 1), activation='relu'))\n",
        "model.add(Dropout(0.5))\n",
        "model.add(Convolution2D(2622, (1, 1)))\n",
        "model.add(Flatten())\n",
        "model.add(Activation('softmax'))"
      ],
      "metadata": {
        "id": "VRwCGE4MJ2SO"
      },
      "execution_count": 6,
      "outputs": []
    },
    {
      "cell_type": "code",
      "source": [
        "weights = \"/content/drive/MyDrive/vgg_face_weights.h5\""
      ],
      "metadata": {
        "id": "78FMmYiEN0h2"
      },
      "execution_count": 7,
      "outputs": []
    },
    {
      "cell_type": "code",
      "source": [
        "model.load_weights(weights)"
      ],
      "metadata": {
        "id": "ovFa3_cOVi64"
      },
      "execution_count": 8,
      "outputs": []
    },
    {
      "cell_type": "code",
      "source": [
        "for layer in model.layers[:-7]:\n",
        "    layer.trainable = False\n",
        "\n",
        "base_model_output = Sequential()\n",
        "base_model_output = Convolution2D(classes, (1, 1), name='predictions')(model.layers[-4].output)\n",
        "base_model_output = Flatten()(base_model_output)\n",
        "base_model_output = Activation('softmax')(base_model_output)\n",
        "\n",
        "age_model = Model(inputs=model.input, outputs=base_model_output)"
      ],
      "metadata": {
        "id": "aDnTaK9lVqAd"
      },
      "execution_count": 9,
      "outputs": []
    },
    {
      "cell_type": "code",
      "source": [
        "if True:\n",
        "    for layer in model.layers:\n",
        "        print(layer, layer.trainable)\n",
        "    \n",
        "    print(\"------------------------\")\n",
        "    for layer in age_model.layers:\n",
        "        print(layer, layer.trainable)"
      ],
      "metadata": {
        "id": "N4N5QNavVsNh"
      },
      "execution_count": null,
      "outputs": []
    },
    {
      "cell_type": "code",
      "source": [
        "sgd = keras.optimizers.SGD(lr=1e-3, decay=1e-6, momentum=0.9, nesterov=True)\n",
        "\n",
        "age_model.compile(loss='categorical_crossentropy'\n",
        "                  , optimizer=keras.optimizers.Adam()\n",
        "                  #, optimizer = sgd\n",
        "                  , metrics=['accuracy']\n",
        "                 )"
      ],
      "metadata": {
        "id": "D_mlvX8L1QD8",
        "colab": {
          "base_uri": "https://localhost:8080/"
        },
        "outputId": "e7a73356-426c-4ead-951d-e77e5f81ecd7"
      },
      "execution_count": 10,
      "outputs": [
        {
          "output_type": "stream",
          "name": "stderr",
          "text": [
            "/usr/local/lib/python3.7/dist-packages/keras/optimizers/optimizer_v2/gradient_descent.py:108: UserWarning: The `lr` argument is deprecated, use `learning_rate` instead.\n",
            "  super(SGD, self).__init__(name, **kwargs)\n"
          ]
        }
      ]
    },
    {
      "cell_type": "code",
      "source": [
        "checkpointer = ModelCheckpoint(\n",
        "    filepath='classification_age_model.hdf5'\n",
        "    , monitor = \"val_loss\"\n",
        "    , verbose=1\n",
        "    , save_best_only=True\n",
        "    , mode = 'auto'\n",
        ")"
      ],
      "metadata": {
        "id": "aF8M_2au1QSY"
      },
      "execution_count": 11,
      "outputs": []
    },
    {
      "cell_type": "code",
      "source": [
        "scores = []"
      ],
      "metadata": {
        "id": "TSfg8U0z9JG5"
      },
      "execution_count": 12,
      "outputs": []
    },
    {
      "cell_type": "code",
      "source": [
        "enableFit = False\n",
        "\n",
        "if enableFit:\n",
        "    epochs = 250\n",
        "    batch_size = 256\n",
        "\n",
        "    for i in range(epochs):\n",
        "        print(\"epoch \",i)\n",
        "        \n",
        "        ix_train = np.random.choice(images_train.shape[0], size=batch_size)\n",
        "\n",
        "\n",
        "        \n",
        "        score = age_model.fit(\n",
        "            images_train[ix_train], images_val[ix_train]\n",
        "            , epochs=1\n",
        "            , validation_data=(labels_train, labels_val)\n",
        "            , callbacks=[checkpointer]\n",
        "        )\n",
        "        \n",
        "        scores.append(score)\n",
        "    \n",
        "    #restore the best weights\n",
        "    from keras.models import load_model\n",
        "    age_model = load_model(\"classification_age_model.hdf5\")\n",
        "    \n",
        "    age_model.save_weights('age_model_weights.h5')\n",
        "        \n",
        "else:\n",
        "    #pre-trained weights for age prediction: https://drive.google.com/file/d/1YCox_4kJ-BYeXq27uUbasu--yz28zUMV/view?usp=sharing\n",
        "    age_model.load_weights(\"/content/drive/MyDrive/age_model_weights.h5\")"
      ],
      "metadata": {
        "id": "XfNGaBmo9OCQ"
      },
      "execution_count": 13,
      "outputs": []
    },
    {
      "cell_type": "code",
      "source": [
        "val_loss_change = []; loss_change = []\n",
        "for i in range(0, len(scores)):\n",
        "    val_loss_change.append(scores[i].history['val_loss'])\n",
        "    loss_change.append(scores[i].history['loss'])\n",
        "\n",
        "plt.plot(val_loss_change, label='val_loss')\n",
        "plt.plot(loss_change, label='train_loss')\n",
        "plt.legend(loc='upper right')\n",
        "plt.show()"
      ],
      "metadata": {
        "id": "EFjIF_KEtecw"
      },
      "execution_count": null,
      "outputs": []
    },
    {
      "cell_type": "code",
      "source": [
        "def get_label(predection):\n",
        "  output = []\n",
        "  for i in predection:\n",
        "    max = -1\n",
        "    max_id = -1\n",
        "    for i,val in enumerate(i): \n",
        "      if val>max:\n",
        "        max = val\n",
        "        max_id = i\n",
        "    output.append(convert_ranges(max_id + 1))\n",
        "  return output\n"
      ],
      "metadata": {
        "id": "9KGkABS_5_kq"
      },
      "execution_count": 14,
      "outputs": []
    },
    {
      "cell_type": "code",
      "source": [
        "output_labels = []"
      ],
      "metadata": {
        "id": "7V4GLWNdK_Lq"
      },
      "execution_count": 15,
      "outputs": []
    },
    {
      "cell_type": "code",
      "source": [
        "resize_images_test_public = []\n",
        "\n",
        "threshold = 50\n",
        "\n",
        "for i,image in enumerate(images_test_public):\n",
        "  if (i%threshold == 0 or i == len(images_test_public) - 1) and (i!=0):\n",
        "    resize_images_test_public = np.array(resize_images_test_public[:])\n",
        "    predictions = age_model.predict(resize_images_test_public)\n",
        "    output_labels.extend(get_label(predictions))\n",
        "    resize_images_test_public = []\n",
        "  resize_images_test_public.append(cv2.resize(image, dsize=(224, 224), interpolation=cv2.INTER_CUBIC))"
      ],
      "metadata": {
        "colab": {
          "base_uri": "https://localhost:8080/"
        },
        "id": "Oiiw_-plt0wf",
        "outputId": "b5967c3c-efc2-4987-96ff-b89382d18aea"
      },
      "execution_count": 16,
      "outputs": [
        {
          "output_type": "stream",
          "name": "stdout",
          "text": [
            "2/2 [==============================] - 27s 9s/step\n",
            "2/2 [==============================] - 26s 9s/step\n",
            "2/2 [==============================] - 27s 10s/step\n",
            "2/2 [==============================] - 29s 11s/step\n",
            "2/2 [==============================] - 26s 9s/step\n",
            "2/2 [==============================] - 26s 9s/step\n",
            "2/2 [==============================] - 26s 9s/step\n",
            "2/2 [==============================] - 26s 9s/step\n",
            "2/2 [==============================] - 26s 9s/step\n",
            "2/2 [==============================] - 26s 9s/step\n",
            "2/2 [==============================] - 26s 10s/step\n",
            "2/2 [==============================] - 26s 9s/step\n",
            "2/2 [==============================] - 26s 9s/step\n",
            "2/2 [==============================] - 28s 9s/step\n",
            "2/2 [==============================] - 26s 9s/step\n",
            "2/2 [==============================] - 26s 9s/step\n",
            "2/2 [==============================] - 26s 9s/step\n",
            "2/2 [==============================] - 26s 9s/step\n",
            "2/2 [==============================] - 26s 9s/step\n",
            "2/2 [==============================] - 26s 9s/step\n",
            "2/2 [==============================] - 26s 9s/step\n",
            "2/2 [==============================] - 26s 9s/step\n",
            "2/2 [==============================] - 26s 9s/step\n",
            "2/2 [==============================] - 26s 9s/step\n",
            "2/2 [==============================] - 26s 9s/step\n",
            "2/2 [==============================] - 26s 9s/step\n",
            "2/2 [==============================] - 26s 9s/step\n",
            "2/2 [==============================] - 26s 9s/step\n",
            "2/2 [==============================] - 26s 9s/step\n",
            "2/2 [==============================] - 26s 9s/step\n",
            "2/2 [==============================] - 26s 9s/step\n",
            "2/2 [==============================] - 26s 9s/step\n",
            "2/2 [==============================] - 26s 9s/step\n",
            "2/2 [==============================] - 26s 9s/step\n",
            "2/2 [==============================] - 26s 9s/step\n",
            "2/2 [==============================] - 26s 9s/step\n",
            "2/2 [==============================] - 26s 9s/step\n",
            "2/2 [==============================] - 26s 9s/step\n",
            "2/2 [==============================] - 26s 9s/step\n",
            "2/2 [==============================] - 26s 9s/step\n",
            "2/2 [==============================] - 26s 9s/step\n",
            "2/2 [==============================] - 26s 9s/step\n",
            "2/2 [==============================] - 26s 9s/step\n",
            "2/2 [==============================] - 26s 9s/step\n",
            "2/2 [==============================] - 26s 9s/step\n",
            "2/2 [==============================] - 26s 9s/step\n",
            "2/2 [==============================] - 26s 9s/step\n",
            "1/1 [==============================] - 12s 12s/step\n"
          ]
        }
      ]
    },
    {
      "cell_type": "code",
      "source": [
        "import pandas as pd \n",
        "import os\n",
        "from datetime import datetime\n",
        "\n",
        "df = pd.DataFrame(output_labels)\n",
        "df.index.name='ID'\n",
        "os.chdir('/content/drive/My Drive/results')\n",
        "\n",
        "currentDateTime = datetime.now().strftime(\"%d%m%Y_%H%M%S\")\n",
        "\n",
        "#df.to_csv(f'45892342-conv-{currentDateTime}.csv', header=['Prediction'])\n",
        "df.to_csv(f'45892342-nconv-CNN.csv', header=['Prediction'])"
      ],
      "metadata": {
        "id": "QpjvBCkvDgJ1"
      },
      "execution_count": 17,
      "outputs": []
    },
    {
      "cell_type": "code",
      "source": [],
      "metadata": {
        "id": "Mz6iMpStn6s5"
      },
      "execution_count": null,
      "outputs": []
    }
  ]
}